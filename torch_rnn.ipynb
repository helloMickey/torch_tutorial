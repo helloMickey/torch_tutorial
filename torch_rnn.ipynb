{
 "cells": [
  {
   "cell_type": "markdown",
   "metadata": {},
   "source": [
    "## RNN中常涉及到的操作"
   ]
  },
  {
   "cell_type": "code",
   "execution_count": 1,
   "metadata": {},
   "outputs": [],
   "source": [
    "import torch\n",
    "from torch import Tensor\n",
    "from torch.nn.utils.rnn import PackedSequence, pad_packed_sequence, pack_padded_sequence, pad_sequence, pack_sequence"
   ]
  },
  {
   "cell_type": "markdown",
   "metadata": {},
   "source": [
    "## pad_sequence"
   ]
  },
  {
   "cell_type": "code",
   "execution_count": 2,
   "metadata": {},
   "outputs": [
    {
     "data": {
      "text/plain": [
       "tensor([[1., 0., 0., 0.],\n",
       "        [1., 2., 0., 0.],\n",
       "        [1., 2., 3., 0.],\n",
       "        [1., 2., 3., 4.]])"
      ]
     },
     "execution_count": 2,
     "metadata": {},
     "output_type": "execute_result"
    }
   ],
   "source": [
    "caption = pad_sequence(\n",
    "    [Tensor([1]),\n",
    "     Tensor([1,2]),\n",
    "     Tensor([1,2,3]),\n",
    "     Tensor([1,2,3,4])\n",
    "    ]\n",
    "    ,batch_first=True\n",
    ")\n",
    "caption"
   ]
  },
  {
   "cell_type": "markdown",
   "metadata": {},
   "source": [
    "## pack_sequence"
   ]
  },
  {
   "cell_type": "code",
   "execution_count": 3,
   "metadata": {},
   "outputs": [
    {
     "data": {
      "text/plain": [
       "PackedSequence(data=tensor([1., 1., 1., 1., 2., 2., 2., 3., 3., 4.]), batch_sizes=tensor([4, 3, 2, 1]), sorted_indices=tensor([3, 2, 1, 0]), unsorted_indices=tensor([3, 2, 1, 0]))"
      ]
     },
     "execution_count": 3,
     "metadata": {},
     "output_type": "execute_result"
    }
   ],
   "source": [
    "pack_sequence(    \n",
    "    [Tensor([1]),\n",
    "     Tensor([1,2]),\n",
    "     Tensor([1,2,3]),\n",
    "     Tensor([1,2,3,4])\n",
    "    ], enforce_sorted=False)"
   ]
  },
  {
   "cell_type": "code",
   "execution_count": 4,
   "metadata": {},
   "outputs": [
    {
     "data": {
      "text/plain": [
       "PackedSequence(data=tensor([1., 0., 0., 1., 2., 0., 1., 2., 3.]), batch_sizes=tensor([3, 3, 3]), sorted_indices=None, unsorted_indices=None)"
      ]
     },
     "execution_count": 4,
     "metadata": {},
     "output_type": "execute_result"
    }
   ],
   "source": [
    "pack_sequence(    \n",
    "    [Tensor([1,1,1]),\n",
    "     Tensor([0,2,2]),\n",
    "     Tensor([0,0,3]),\n",
    "    ]\n",
    ")"
   ]
  },
  {
   "cell_type": "markdown",
   "metadata": {},
   "source": [
    "## sort & reIndex"
   ]
  },
  {
   "cell_type": "code",
   "execution_count": 5,
   "metadata": {},
   "outputs": [
    {
     "data": {
      "text/plain": [
       "(tensor([[1., 0., 0., 0.],\n",
       "         [1., 2., 0., 0.],\n",
       "         [1., 2., 3., 0.],\n",
       "         [1., 2., 3., 4.]]),\n",
       " tensor([1., 2., 3., 4.]))"
      ]
     },
     "execution_count": 5,
     "metadata": {},
     "output_type": "execute_result"
    }
   ],
   "source": [
    "lengths = torch.Tensor([1,2,3,4])\n",
    "caption, lengths"
   ]
  },
  {
   "cell_type": "code",
   "execution_count": 6,
   "metadata": {},
   "outputs": [
    {
     "data": {
      "text/plain": [
       "(tensor([4., 3., 2., 1.]), tensor([3, 2, 1, 0]))"
      ]
     },
     "execution_count": 6,
     "metadata": {},
     "output_type": "execute_result"
    }
   ],
   "source": [
    "sort_lengths, sort_index = torch.sort(lengths, dim=0, descending=True)\n",
    "sort_lengths, sort_index"
   ]
  },
  {
   "cell_type": "code",
   "execution_count": 7,
   "metadata": {},
   "outputs": [
    {
     "data": {
      "text/plain": [
       "tensor([[1., 2., 3., 4.],\n",
       "        [1., 2., 3., 0.],\n",
       "        [1., 2., 0., 0.],\n",
       "        [1., 0., 0., 0.]])"
      ]
     },
     "execution_count": 7,
     "metadata": {},
     "output_type": "execute_result"
    }
   ],
   "source": [
    "sort_caption = torch.index_select(input=caption, dim=0, index=sort_index)\n",
    "sort_caption"
   ]
  },
  {
   "cell_type": "markdown",
   "metadata": {},
   "source": [
    "## pack_padded_sequence"
   ]
  },
  {
   "cell_type": "code",
   "execution_count": 8,
   "metadata": {},
   "outputs": [
    {
     "data": {
      "text/plain": [
       "PackedSequence(data=tensor([1., 1., 1., 1., 2., 2., 2., 3., 3., 4.]), batch_sizes=tensor([4, 3, 2, 1]), sorted_indices=None, unsorted_indices=None)"
      ]
     },
     "execution_count": 8,
     "metadata": {},
     "output_type": "execute_result"
    }
   ],
   "source": [
    "temp = pack_padded_sequence(input=sort_caption, lengths=sort_lengths, batch_first=True)\n",
    "temp"
   ]
  },
  {
   "cell_type": "markdown",
   "metadata": {},
   "source": [
    "## pad_packed_sequence"
   ]
  },
  {
   "cell_type": "code",
   "execution_count": 9,
   "metadata": {},
   "outputs": [
    {
     "data": {
      "text/plain": [
       "(tensor([[1., 2., 3., 4.],\n",
       "         [1., 2., 3., 0.],\n",
       "         [1., 2., 0., 0.],\n",
       "         [1., 0., 0., 0.]]),\n",
       " tensor([4, 3, 2, 1]))"
      ]
     },
     "execution_count": 9,
     "metadata": {},
     "output_type": "execute_result"
    }
   ],
   "source": [
    "pad_packed_sequence(temp, batch_first=True, padding_value=0)"
   ]
  }
 ],
 "metadata": {
  "kernelspec": {
   "display_name": "torch_1",
   "language": "python",
   "name": "torch_1"
  },
  "language_info": {
   "codemirror_mode": {
    "name": "ipython",
    "version": 3
   },
   "file_extension": ".py",
   "mimetype": "text/x-python",
   "name": "python",
   "nbconvert_exporter": "python",
   "pygments_lexer": "ipython3",
   "version": "3.6.9"
  }
 },
 "nbformat": 4,
 "nbformat_minor": 2
}
